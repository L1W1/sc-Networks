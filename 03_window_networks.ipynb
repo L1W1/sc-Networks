{
 "cells": [
  {
   "cell_type": "markdown",
   "metadata": {},
   "source": [
    "# Create networks for each window"
   ]
  },
  {
   "cell_type": "markdown",
   "metadata": {},
   "source": [
    "#### done:\n",
    "Matrices with absolute vaules for each window, representing the difference between the two branches. The larger the abs value the larger the difference in expression between branch A and B.\n",
    "\n",
    "Now those differences are visualized in networks for each window.\n"
   ]
  },
  {
   "cell_type": "code",
   "execution_count": 1,
   "metadata": {},
   "outputs": [],
   "source": [
    "PATH_TO_DATAFRAMES='data_files/dataframes/'\n",
    "PATH_TO_ABS_MATRICES='data_files/abs_networks/'\n",
    "NUM_WINDOWS=5"
   ]
  },
  {
   "cell_type": "code",
   "execution_count": 2,
   "metadata": {},
   "outputs": [],
   "source": [
    "import pandas as pd\n",
    "import glob\n",
    "import os\n",
    "import networkx as nx\n",
    "import matplotlib.pyplot as plt\n",
    "from pyvis import network as net"
   ]
  },
  {
   "cell_type": "markdown",
   "metadata": {},
   "source": [
    "I dont use the following method because displaying the network does not work out of a method. But i use the same code again for each network."
   ]
  },
  {
   "cell_type": "code",
   "execution_count": 3,
   "metadata": {},
   "outputs": [],
   "source": [
    "# method to make a network from a dataframe\n",
    "def make_network(dataframe):\n",
    "    G = nx.DiGraph()\n",
    "    for i in range(len(dataframe['TF'])):\n",
    "        tf = dataframe['TF'][i]\n",
    "        gene = dataframe['GENE'][i]\n",
    "        w = dataframe['abs'][i]\n",
    "        G.add_edge(tf, gene, weight=w)\n",
    "    edge_labels = nx.get_edge_attributes(G,'weight')\n",
    "    for key in edge_labels.keys():\n",
    "        edge_labels[key] = round(edge_labels[key],4)\n",
    "    # pos = nx.kamada_kawai_layout(G) \n",
    "    # pos = nx.spring_layout(G, k=5)  # positions for all nodes\n",
    "    # pos = nx.random_layout(G)\n",
    "    # nx.draw_networkx(G, pos)\n",
    "    # nx.draw_networkx_edge_labels(G, pos, edge_labels = edge_labels, rotate=False)\n",
    "\n",
    "    nt = net.Network(notebook=True)\n",
    "    nt.from_nx(G)\n",
    "    nt.show(\"nx.html\")\n",
    "    \n",
    "    \n",
    "    #plt.savefig(f'test5_data_new/graphs2/win{window}_graph_5.png',bbox_inches='tight',dpi=100)"
   ]
  },
  {
   "cell_type": "code",
   "execution_count": null,
   "metadata": {},
   "outputs": [],
   "source": []
  },
  {
   "cell_type": "code",
   "execution_count": 32,
   "metadata": {},
   "outputs": [],
   "source": [
    "# a method to filter only the connections with largest difference to make the network clearer\n",
    "def determine_cutoff(weights, num_top_values):\n",
    "    weights_list = weights\n",
    "    weights_list.sort(reverse=True)\n",
    "    if num_top_values >= len(weights_list):\n",
    "        cutoff = weights_list[len(weights_list)-1]\n",
    "    else:\n",
    "        cutoff = weights_list[num_top_values]\n",
    "    return cutoff"
   ]
  },
  {
   "cell_type": "code",
   "execution_count": null,
   "metadata": {},
   "outputs": [],
   "source": []
  },
  {
   "cell_type": "code",
   "execution_count": 5,
   "metadata": {},
   "outputs": [],
   "source": [
    "# for all windows"
   ]
  },
  {
   "cell_type": "code",
   "execution_count": 6,
   "metadata": {},
   "outputs": [],
   "source": [
    "branchA_csvs=glob.glob(f\"{PATH_TO_DATAFRAMES}A_*\")\n",
    "branchA_csvs=[os.path.basename(csv) for csv in branchA_csvs]\n",
    "\n",
    "branchB_csvs=glob.glob(f\"{PATH_TO_DATAFRAMES}B_*.csv\")\n",
    "branchB_csvs=[os.path.basename(csv) for csv in branchB_csvs]"
   ]
  },
  {
   "cell_type": "code",
   "execution_count": null,
   "metadata": {},
   "outputs": [],
   "source": []
  },
  {
   "cell_type": "code",
   "execution_count": 62,
   "metadata": {
    "scrolled": true
   },
   "outputs": [
    {
     "name": "stderr",
     "output_type": "stream",
     "text": [
      "/nfs/home/students/l.willruth/.conda/envs/myenv/lib/python3.6/site-packages/ipykernel_launcher.py:14: SettingWithCopyWarning: \n",
      "A value is trying to be set on a copy of a slice from a DataFrame\n",
      "\n",
      "See the caveats in the documentation: https://pandas.pydata.org/pandas-docs/stable/user_guide/indexing.html#returning-a-view-versus-a-copy\n",
      "  \n"
     ]
    }
   ],
   "source": [
    "network_dfs = []\n",
    "\n",
    "for k in range(NUM_WINDOWS):\n",
    "    \n",
    "    win_dataframe = pd.read_csv(f'{PATH_TO_ABS_MATRICES}win{k}_abs.csv')\n",
    "    \n",
    "    dataframe = win_dataframe.sort_values(axis=0, by=['abs'], ascending=False)\n",
    "    dataframe = dataframe.head(200)   # take only the top 200 connections, more wont be necessary for visualisation\n",
    "    dataframe.reset_index(drop=True, inplace=True)\n",
    "    \n",
    "    #rename all TFs by adding _TF to name\n",
    "    for i in range(len(dataframe['TF'])):\n",
    "        dataframe['TF'][i] = dataframe['TF'][i]+'_TF'\n",
    "\n",
    "    network_dfs.append(dataframe)\n",
    "    # make_network(dataframe, k)"
   ]
  },
  {
   "cell_type": "code",
   "execution_count": null,
   "metadata": {},
   "outputs": [],
   "source": []
  },
  {
   "cell_type": "code",
   "execution_count": 69,
   "metadata": {},
   "outputs": [],
   "source": [
    "NUM_CONNS = 30 # choose which connection determines the cutoff"
   ]
  },
  {
   "cell_type": "code",
   "execution_count": 66,
   "metadata": {},
   "outputs": [],
   "source": [
    "dataframe = network_dfs[1]"
   ]
  },
  {
   "cell_type": "code",
   "execution_count": 67,
   "metadata": {},
   "outputs": [
    {
     "name": "stdout",
     "output_type": "stream",
     "text": [
      "8.010852783826648\n"
     ]
    },
    {
     "data": {
      "text/html": [
       "\n",
       "        <iframe\n",
       "            width=\"500px\"\n",
       "            height=\"500px\"\n",
       "            src=\"nx.html\"\n",
       "            frameborder=\"0\"\n",
       "            allowfullscreen\n",
       "        ></iframe>\n",
       "        "
      ],
      "text/plain": [
       "<IPython.lib.display.IFrame at 0x7f7cebc65438>"
      ]
     },
     "execution_count": 67,
     "metadata": {},
     "output_type": "execute_result"
    }
   ],
   "source": [
    "cutoff=determine_cutoff(list(dataframe['abs']), NUM_CONNS)\n",
    "print(cutoff)\n",
    "\n",
    "G = nx.DiGraph()   \n",
    "for i in range(len(dataframe['TF'])):\n",
    "    tf = dataframe['TF'][i]\n",
    "    gene = dataframe['GENE'][i]\n",
    "    w = dataframe['abs'][i]\n",
    "    if(w>=cutoff):\n",
    "        G.add_node(tf, color='blue', group='TF')\n",
    "        G.add_node(gene, color='lightblue', group='GENE')\n",
    "        G.add_edge(tf, gene, weight=w, color='black')\n",
    "edge_labels = nx.get_edge_attributes(G,'weight')\n",
    "for key in edge_labels.keys():\n",
    "    edge_labels[key] = round(edge_labels[key],4)\n",
    "\n",
    "\n",
    "nt = net.Network(notebook=True)\n",
    "nt.from_nx(G)\n",
    "\n",
    "nt.show(\"nx.html\")\n",
    "    "
   ]
  },
  {
   "cell_type": "code",
   "execution_count": 68,
   "metadata": {},
   "outputs": [],
   "source": [
    "dataframe = network_dfs[2]"
   ]
  },
  {
   "cell_type": "code",
   "execution_count": 55,
   "metadata": {},
   "outputs": [
    {
     "name": "stdout",
     "output_type": "stream",
     "text": [
      "11.644590586304385\n"
     ]
    },
    {
     "data": {
      "text/html": [
       "\n",
       "        <iframe\n",
       "            width=\"500px\"\n",
       "            height=\"500px\"\n",
       "            src=\"nx.html\"\n",
       "            frameborder=\"0\"\n",
       "            allowfullscreen\n",
       "        ></iframe>\n",
       "        "
      ],
      "text/plain": [
       "<IPython.lib.display.IFrame at 0x7f7cec37a390>"
      ]
     },
     "execution_count": 55,
     "metadata": {},
     "output_type": "execute_result"
    }
   ],
   "source": [
    "cutoff=determine_cutoff(list(dataframe['abs']), NUM_CONNS)\n",
    "print(cutoff)\n",
    "\n",
    "G = nx.DiGraph()   \n",
    "for i in range(len(dataframe['TF'])):\n",
    "    tf = dataframe['TF'][i]\n",
    "    gene = dataframe['GENE'][i]\n",
    "    w = dataframe['abs'][i]\n",
    "    if(w>=cutoff):\n",
    "        G.add_node(tf, color='green', group='TF')\n",
    "        G.add_node(gene, color='lightgreen', group='GENE')\n",
    "        G.add_edge(tf, gene, weight=w, color='black')\n",
    "edge_labels = nx.get_edge_attributes(G,'weight')\n",
    "for key in edge_labels.keys():\n",
    "    edge_labels[key] = round(edge_labels[key],4)\n",
    "\n",
    "\n",
    "nt = net.Network(notebook=True)\n",
    "nt.from_nx(G)\n",
    "\n",
    "nt.show(\"nx.html\")"
   ]
  },
  {
   "cell_type": "code",
   "execution_count": 56,
   "metadata": {},
   "outputs": [],
   "source": [
    "dataframe = network_dfs[3]"
   ]
  },
  {
   "cell_type": "code",
   "execution_count": 57,
   "metadata": {},
   "outputs": [
    {
     "name": "stdout",
     "output_type": "stream",
     "text": [
      "18.571368870028888\n"
     ]
    },
    {
     "data": {
      "text/html": [
       "\n",
       "        <iframe\n",
       "            width=\"500px\"\n",
       "            height=\"500px\"\n",
       "            src=\"nx.html\"\n",
       "            frameborder=\"0\"\n",
       "            allowfullscreen\n",
       "        ></iframe>\n",
       "        "
      ],
      "text/plain": [
       "<IPython.lib.display.IFrame at 0x7f7cebc65208>"
      ]
     },
     "execution_count": 57,
     "metadata": {},
     "output_type": "execute_result"
    }
   ],
   "source": [
    "cutoff=determine_cutoff(list(dataframe['abs']), NUM_CONNS)\n",
    "print(cutoff)\n",
    "\n",
    "G = nx.DiGraph()   \n",
    "for i in range(len(dataframe['TF'])):\n",
    "    tf = dataframe['TF'][i]\n",
    "    gene = dataframe['GENE'][i]\n",
    "    w = dataframe['abs'][i]\n",
    "    if(w>=cutoff):\n",
    "        G.add_node(tf, color='yellowgreen', group='TF')\n",
    "        G.add_node(gene, color='yellow', group='GENE')\n",
    "        G.add_edge(tf, gene, weight=w, color='black')\n",
    "edge_labels = nx.get_edge_attributes(G,'weight')\n",
    "for key in edge_labels.keys():\n",
    "    edge_labels[key] = round(edge_labels[key],4)\n",
    "\n",
    "\n",
    "nt = net.Network(notebook=True)\n",
    "nt.from_nx(G)\n",
    "\n",
    "nt.show(\"nx.html\")"
   ]
  },
  {
   "cell_type": "code",
   "execution_count": 58,
   "metadata": {},
   "outputs": [],
   "source": [
    "dataframe = network_dfs[4]"
   ]
  },
  {
   "cell_type": "code",
   "execution_count": 59,
   "metadata": {},
   "outputs": [
    {
     "name": "stdout",
     "output_type": "stream",
     "text": [
      "11.479588576831935\n"
     ]
    },
    {
     "data": {
      "text/html": [
       "\n",
       "        <iframe\n",
       "            width=\"500px\"\n",
       "            height=\"500px\"\n",
       "            src=\"nx.html\"\n",
       "            frameborder=\"0\"\n",
       "            allowfullscreen\n",
       "        ></iframe>\n",
       "        "
      ],
      "text/plain": [
       "<IPython.lib.display.IFrame at 0x7f7cec090160>"
      ]
     },
     "execution_count": 59,
     "metadata": {},
     "output_type": "execute_result"
    }
   ],
   "source": [
    "cutoff=determine_cutoff(list(dataframe['abs']), NUM_CONNS)\n",
    "print(cutoff)\n",
    "\n",
    "G = nx.DiGraph()   \n",
    "for i in range(len(dataframe['TF'])):\n",
    "    tf = dataframe['TF'][i]\n",
    "    gene = dataframe['GENE'][i]\n",
    "    w = dataframe['abs'][i]\n",
    "    if(w>=cutoff):\n",
    "        G.add_node(tf, color='orangered', group='TF')\n",
    "        G.add_node(gene, color='orange', group='GENE')\n",
    "        G.add_edge(tf, gene, weight=w, color='black')\n",
    "edge_labels = nx.get_edge_attributes(G,'weight')\n",
    "for key in edge_labels.keys():\n",
    "    edge_labels[key] = round(edge_labels[key],4)\n",
    "\n",
    "\n",
    "nt = net.Network(notebook=True)\n",
    "nt.from_nx(G)\n",
    "\n",
    "nt.show(\"nx.html\")"
   ]
  },
  {
   "cell_type": "markdown",
   "metadata": {},
   "source": [
    "#### done:\n",
    "Creating a network for each window with the most significant tf-gene connections that vary between branch A and branch B."
   ]
  }
 ],
 "metadata": {
  "kernelspec": {
   "display_name": "Python 3",
   "language": "python",
   "name": "python3"
  },
  "language_info": {
   "codemirror_mode": {
    "name": "ipython",
    "version": 3
   },
   "file_extension": ".py",
   "mimetype": "text/x-python",
   "name": "python",
   "nbconvert_exporter": "python",
   "pygments_lexer": "ipython3",
   "version": "3.6.12"
  }
 },
 "nbformat": 4,
 "nbformat_minor": 4
}
