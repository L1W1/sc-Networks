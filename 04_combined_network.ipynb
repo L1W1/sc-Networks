{
 "cells": [
  {
   "cell_type": "markdown",
   "metadata": {},
   "source": [
    "# Creating a large network by combining the small ones"
   ]
  },
  {
   "cell_type": "markdown",
   "metadata": {},
   "source": [
    "#### done:\n",
    "Creating a network for each window with the most significant tf-gene connections that vary between branch A and branch B."
   ]
  },
  {
   "cell_type": "code",
   "execution_count": 2,
   "metadata": {},
   "outputs": [],
   "source": [
    "PATH_TO_DATAFRAMES='data_files/dataframes/'\n",
    "PATH_TO_ABS_MATRICES='data_files/abs_networks/'\n",
    "NUM_WINDOWS=5"
   ]
  },
  {
   "cell_type": "code",
   "execution_count": 3,
   "metadata": {},
   "outputs": [],
   "source": [
    "import pandas as pd\n",
    "import glob\n",
    "import os\n",
    "import networkx as nx\n",
    "import matplotlib.pyplot as plt\n",
    "from pyvis import network as net"
   ]
  },
  {
   "cell_type": "code",
   "execution_count": null,
   "metadata": {},
   "outputs": [],
   "source": []
  },
  {
   "cell_type": "code",
   "execution_count": 4,
   "metadata": {},
   "outputs": [],
   "source": [
    "def make_network(dataframe, window):\n",
    "    G = nx.DiGraph()\n",
    "    for i in range(len(dataframe['TF'])):\n",
    "        tf = dataframe['TF'][i]\n",
    "        gene = dataframe['GENE'][i]\n",
    "        w = dataframe['abs'][i]\n",
    "        G.add_edge(tf, gene, weight=w)\n",
    "    edge_labels = nx.get_edge_attributes(G,'weight')\n",
    "    for key in edge_labels.keys():\n",
    "        edge_labels[key] = round(edge_labels[key],4)\n",
    "    # pos = nx.kamada_kawai_layout(G) \n",
    "    # pos = nx.spring_layout(G, k=5)  # positions for all nodes\n",
    "    # pos = nx.random_layout(G)\n",
    "    # nx.draw_networkx(G, pos)\n",
    "    # nx.draw_networkx_edge_labels(G, pos, edge_labels = edge_labels, rotate=False)\n",
    "\n",
    "    nt = net.Network(notebook=True)\n",
    "    nt.from_nx(G)\n",
    "    nt.show(\"nx.html\")\n",
    "    \n",
    "    \n",
    "    #plt.savefig(f'test5_data_new/graphs2/win{window}_graph_5.png',bbox_inches='tight',dpi=100)"
   ]
  },
  {
   "cell_type": "code",
   "execution_count": 16,
   "metadata": {},
   "outputs": [],
   "source": [
    "# a method to filter only the connections with largest difference to make the network clearer\n",
    "def determine_cutoff(weights, num_top_values):\n",
    "    weights_list = weights\n",
    "    weights_list.sort(reverse=True)\n",
    "    if num_top_values >= len(weights_list):\n",
    "        cutoff = weights_list[len(weights_list)-1]\n",
    "    else:\n",
    "        cutoff = weights_list[num_top_values]\n",
    "    return cutoff"
   ]
  },
  {
   "cell_type": "code",
   "execution_count": 7,
   "metadata": {},
   "outputs": [],
   "source": [
    "# for all windows"
   ]
  },
  {
   "cell_type": "code",
   "execution_count": 8,
   "metadata": {},
   "outputs": [],
   "source": [
    "branchA_csvs=glob.glob(f\"{PATH_TO_DATAFRAMES}A_*\")\n",
    "branchA_csvs=[os.path.basename(csv) for csv in branchA_csvs]\n",
    "\n",
    "branchB_csvs=glob.glob(f\"{PATH_TO_DATAFRAMES}B_*.csv\")\n",
    "branchB_csvs=[os.path.basename(csv) for csv in branchB_csvs]"
   ]
  },
  {
   "cell_type": "markdown",
   "metadata": {},
   "source": [
    "Read the information:"
   ]
  },
  {
   "cell_type": "code",
   "execution_count": 10,
   "metadata": {
    "scrolled": false
   },
   "outputs": [
    {
     "name": "stdout",
     "output_type": "stream",
     "text": [
      "current window 0\n",
      "current window 1\n",
      "current window 2\n",
      "current window 3\n",
      "current window 4\n"
     ]
    }
   ],
   "source": [
    "network_dfs = []\n",
    "\n",
    "for k in range(NUM_WINDOWS):\n",
    "    print(f'current window {k}')\n",
    "    win_dataframe = pd.read_csv(f'{PATH_TO_ABS_MATRICES}win{k}_abs.csv')\n",
    "    \n",
    "    # dataframe = win_dataframe.sort_values(axis=0, by=['abs'], ascending=False)\n",
    "    # dataframe = dataframe.head(50)\n",
    "    # dataframe.reset_index(drop=True, inplace=True)\n",
    "    \n",
    "    #rename all TFs by adding _TF to name\n",
    "    for i in range(len(win_dataframe['TF'])):\n",
    "        win_dataframe['TF'].at[i] = f'{win_dataframe[\"TF\"][i]}_TF'\n",
    "\n",
    "    network_dfs.append(win_dataframe)\n",
    "    # make_network(dataframe, k)"
   ]
  },
  {
   "cell_type": "code",
   "execution_count": 17,
   "metadata": {
    "scrolled": true
   },
   "outputs": [
    {
     "data": {
      "text/html": [
       "<div>\n",
       "<style scoped>\n",
       "    .dataframe tbody tr th:only-of-type {\n",
       "        vertical-align: middle;\n",
       "    }\n",
       "\n",
       "    .dataframe tbody tr th {\n",
       "        vertical-align: top;\n",
       "    }\n",
       "\n",
       "    .dataframe thead th {\n",
       "        text-align: right;\n",
       "    }\n",
       "</style>\n",
       "<table border=\"1\" class=\"dataframe\">\n",
       "  <thead>\n",
       "    <tr style=\"text-align: right;\">\n",
       "      <th></th>\n",
       "      <th>TF</th>\n",
       "      <th>GENE</th>\n",
       "      <th>abs</th>\n",
       "    </tr>\n",
       "  </thead>\n",
       "  <tbody>\n",
       "    <tr>\n",
       "      <th>0</th>\n",
       "      <td>Irf1_TF</td>\n",
       "      <td>0610030E20Rik</td>\n",
       "      <td>0.000000</td>\n",
       "    </tr>\n",
       "    <tr>\n",
       "      <th>1</th>\n",
       "      <td>Irf1_TF</td>\n",
       "      <td>1110004F10Rik</td>\n",
       "      <td>0.000000</td>\n",
       "    </tr>\n",
       "    <tr>\n",
       "      <th>2</th>\n",
       "      <td>Irf1_TF</td>\n",
       "      <td>1700020I14Rik</td>\n",
       "      <td>0.000000</td>\n",
       "    </tr>\n",
       "    <tr>\n",
       "      <th>3</th>\n",
       "      <td>Irf1_TF</td>\n",
       "      <td>1810037I17Rik</td>\n",
       "      <td>0.529617</td>\n",
       "    </tr>\n",
       "    <tr>\n",
       "      <th>4</th>\n",
       "      <td>Irf1_TF</td>\n",
       "      <td>1810058I24Rik</td>\n",
       "      <td>0.000000</td>\n",
       "    </tr>\n",
       "    <tr>\n",
       "      <th>...</th>\n",
       "      <td>...</td>\n",
       "      <td>...</td>\n",
       "      <td>...</td>\n",
       "    </tr>\n",
       "    <tr>\n",
       "      <th>123691</th>\n",
       "      <td>Ctcf_TF</td>\n",
       "      <td>Zmynd11</td>\n",
       "      <td>0.000000</td>\n",
       "    </tr>\n",
       "    <tr>\n",
       "      <th>123692</th>\n",
       "      <td>Ctcf_TF</td>\n",
       "      <td>Zmynd8</td>\n",
       "      <td>0.633632</td>\n",
       "    </tr>\n",
       "    <tr>\n",
       "      <th>123693</th>\n",
       "      <td>Ctcf_TF</td>\n",
       "      <td>Zranb2</td>\n",
       "      <td>0.000000</td>\n",
       "    </tr>\n",
       "    <tr>\n",
       "      <th>123694</th>\n",
       "      <td>Ctcf_TF</td>\n",
       "      <td>Zrsr2</td>\n",
       "      <td>0.000000</td>\n",
       "    </tr>\n",
       "    <tr>\n",
       "      <th>123695</th>\n",
       "      <td>Ctcf_TF</td>\n",
       "      <td>Zwint</td>\n",
       "      <td>0.000000</td>\n",
       "    </tr>\n",
       "  </tbody>\n",
       "</table>\n",
       "<p>123696 rows × 3 columns</p>\n",
       "</div>"
      ],
      "text/plain": [
       "             TF           GENE       abs\n",
       "0       Irf1_TF  0610030E20Rik  0.000000\n",
       "1       Irf1_TF  1110004F10Rik  0.000000\n",
       "2       Irf1_TF  1700020I14Rik  0.000000\n",
       "3       Irf1_TF  1810037I17Rik  0.529617\n",
       "4       Irf1_TF  1810058I24Rik  0.000000\n",
       "...         ...            ...       ...\n",
       "123691  Ctcf_TF        Zmynd11  0.000000\n",
       "123692  Ctcf_TF         Zmynd8  0.633632\n",
       "123693  Ctcf_TF         Zranb2  0.000000\n",
       "123694  Ctcf_TF          Zrsr2  0.000000\n",
       "123695  Ctcf_TF          Zwint  0.000000\n",
       "\n",
       "[123696 rows x 3 columns]"
      ]
     },
     "execution_count": 17,
     "metadata": {},
     "output_type": "execute_result"
    }
   ],
   "source": [
    "network_dfs[4]\n"
   ]
  },
  {
   "cell_type": "markdown",
   "metadata": {},
   "source": [
    "Create the graph:"
   ]
  },
  {
   "cell_type": "code",
   "execution_count": 21,
   "metadata": {},
   "outputs": [
    {
     "data": {
      "text/html": [
       "\n",
       "        <iframe\n",
       "            width=\"500px\"\n",
       "            height=\"500px\"\n",
       "            src=\"nx.html\"\n",
       "            frameborder=\"0\"\n",
       "            allowfullscreen\n",
       "        ></iframe>\n",
       "        "
      ],
      "text/plain": [
       "<IPython.lib.display.IFrame at 0x7fdbc5b8ddd8>"
      ]
     },
     "execution_count": 21,
     "metadata": {},
     "output_type": "execute_result"
    }
   ],
   "source": [
    "NUM_CONNS = 50 # choose which connection determines the cutoff\n",
    "\n",
    "G = nx.DiGraph()  \n",
    "\n",
    "dataframe = network_dfs[1]\n",
    "value_cutoff = determine_cutoff(list(dataframe['abs']), NUM_CONNS)\n",
    "for i in range(len(dataframe)):\n",
    "    tf = dataframe['TF'][i]\n",
    "    gene = dataframe['GENE'][i]\n",
    "    w = dataframe['abs'][i]\n",
    "    if w > value_cutoff:\n",
    "        G.add_node(tf, color='blue', group='TF')\n",
    "        G.add_node(gene, color='lightblue', group='GENE')\n",
    "        G.add_edge(tf, gene, weight=w, color='black')\n",
    "    \n",
    "    \n",
    "dataframe = network_dfs[2]\n",
    "value_cutoff = determine_cutoff(list(dataframe['abs']), NUM_CONNS)\n",
    "for i in range(len(dataframe['TF'])):\n",
    "    tf = dataframe['TF'][i]\n",
    "    gene = dataframe['GENE'][i]\n",
    "    w = dataframe['abs'][i]\n",
    "    if w > value_cutoff:\n",
    "        G.add_node(tf, color='green', group='TF')\n",
    "        if not gene in G.nodes():\n",
    "            G.add_node(gene, color='lightgreen', group='GENE')\n",
    "        else:\n",
    "            G.add_node(gene, color='grey', group='GENE')\n",
    "        G.add_edge(tf, gene, weight=w, color='black')\n",
    "    \n",
    "        \n",
    "dataframe = network_dfs[3]\n",
    "value_cutoff = determine_cutoff(list(dataframe['abs']), NUM_CONNS)\n",
    "for i in range(len(dataframe['TF'])):\n",
    "    tf = dataframe['TF'][i]\n",
    "    gene = dataframe['GENE'][i]\n",
    "    w = dataframe['abs'][i]\n",
    "    if w > value_cutoff:\n",
    "        G.add_node(tf, color='yellowgreen', group='TF')\n",
    "        if not gene in G.nodes():\n",
    "            G.add_node(gene, color='yellow', group='GENE')\n",
    "        else:\n",
    "            G.add_node(gene, color='grey', group='GENE')\n",
    "        G.add_edge(tf, gene, weight=w, color='black')\n",
    "\n",
    "\n",
    "dataframe = network_dfs[4]\n",
    "value_cutoff = determine_cutoff(list(dataframe['abs']), NUM_CONNS)\n",
    "for i in range(len(dataframe['TF'])):\n",
    "    tf = dataframe['TF'][i]\n",
    "    gene = dataframe['GENE'][i]\n",
    "    w = dataframe['abs'][i]\n",
    "    if w > value_cutoff:\n",
    "        G.add_node(tf, color='orangered', group='TF')\n",
    "        if not gene in G.nodes():\n",
    "            G.add_node(gene, color='orange', group='GENE')\n",
    "        else:\n",
    "            G.add_node(gene, color='grey', group='GENE')\n",
    "        G.add_edge(tf, gene, weight=w, color='black')\n",
    "\n",
    "\n",
    "edge_labels = nx.get_edge_attributes(G,'weight')\n",
    "\n",
    "\n",
    "nt = net.Network(notebook=True)\n",
    "nt.from_nx(G)\n",
    "\n",
    "nt.show(\"nx.html\")\n",
    "    "
   ]
  },
  {
   "cell_type": "markdown",
   "metadata": {},
   "source": [
    "#### Description:\n",
    "blue: window 1 \\\n",
    "green: window 2 \\\n",
    "yellow: window 3 \\\n",
    "orange: window 4 \\\n",
    "grey: gene appears in at least two windows (connection between subnetworks)\n"
   ]
  },
  {
   "cell_type": "markdown",
   "metadata": {},
   "source": [
    "#### done:\n",
    "Created a large network for 5 windows showing the transcription factor - gene interactions that vary the most between branch A and branch B in each window. Because these genes are expressed highly different in the two branches they might be responsible for developing into two different cell types."
   ]
  }
 ],
 "metadata": {
  "kernelspec": {
   "display_name": "Python 3",
   "language": "python",
   "name": "python3"
  },
  "language_info": {
   "codemirror_mode": {
    "name": "ipython",
    "version": 3
   },
   "file_extension": ".py",
   "mimetype": "text/x-python",
   "name": "python",
   "nbconvert_exporter": "python",
   "pygments_lexer": "ipython3",
   "version": "3.6.12"
  }
 },
 "nbformat": 4,
 "nbformat_minor": 4
}
